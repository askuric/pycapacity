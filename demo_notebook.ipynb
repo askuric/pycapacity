{
 "cells": [
  {
   "cell_type": "markdown",
   "metadata": {},
   "source": [
    "## On-line force capability evaluation based on efficient polytope vertex search\n",
    "\n",
    "Short script demonstrating usage of python module"
   ]
  },
  {
   "cell_type": "code",
   "execution_count": 1,
   "metadata": {},
   "outputs": [],
   "source": [
    "import pycapacity as capacity # new force capacity module\n",
    "import numpy as np\n",
    "import matplotlib.pyplot as plt\n",
    "from matplotlib.patches import Ellipse\n",
    "from mpl_toolkits.mplot3d import Axes3D\n",
    "%matplotlib notebook"
   ]
  },
  {
   "cell_type": "markdown",
   "metadata": {},
   "source": [
    "## 3d polytope visalisaiton functions"
   ]
  },
  {
   "cell_type": "code",
   "execution_count": 2,
   "metadata": {},
   "outputs": [],
   "source": [
    "def plot_polytope_faces_3d(faces, face_color=None, edge_color=None, alpha=None,label=None):\n",
    "    for polygone in faces:\n",
    "        poly = Poly3DCollection(list([zip(polygone[0,:],polygone[1,:],polygone[2,:])]))\n",
    "        if alpha != None:\n",
    "            poly.set_alpha(alpha)\n",
    "        if face_color != None:\n",
    "            poly.set_facecolor(face_color)\n",
    "        if edge_color != None:\n",
    "            poly.set_edgecolor(edge_color)\n",
    "        ax.add_collection3d(poly)\n",
    "    \n",
    "    #poly._facecolors2d = poly._facecolor3d\n",
    "    #poly._edgecolors2d = poly._edgecolor3d\n",
    "    poly._edgecolors2d=poly._edgecolors3d\n",
    "    poly._facecolors2d=poly._facecolors3d\n",
    "    if label != None:\n",
    "        poly.set_label(label)\n",
    "        \n",
    "def plot_polytope_vertex_3d(ax, vertex, label=None, color='black'):\n",
    "    if label != None:\n",
    "        ax.scatter(vertex[0,:],vertex[1,:],vertex[2,:],color=color, label=label)\n",
    "    else:\n",
    "        ax.scatter(vertex[0,:],vertex[1,:],vertex[2,:],color=color)        "
   ]
  },
  {
   "cell_type": "markdown",
   "metadata": {},
   "source": [
    "## Four link planar robot example\n",
    "\n",
    "Force polytope and ellispoid example calculaton using the newly developed force capacity calculation python module\n",
    "\n",
    "`n=4` and `m=2`"
   ]
  },
  {
   "cell_type": "code",
   "execution_count": 3,
   "metadata": {},
   "outputs": [],
   "source": [
    "# jacobian function for four link planar robot\n",
    "def four_link_jacobian(joints):\n",
    "    sq1 = np.sin(joints[0])\n",
    "    sq12 = np.sin(joints[0] + joints[1])\n",
    "    sq123 = np.sin(joints[0] + joints[1] + joints[2])\n",
    "    sq1234 = np.sin(joints[0] + joints[1] + joints[2] + joints[3])\n",
    "    cq1 = np.cos(joints[0])\n",
    "    cq12 = np.cos(joints[0] + joints[1])\n",
    "    cq123 = np.cos(joints[0] + joints[1] + joints[2])\n",
    "    cq1234 = np.cos(joints[0] + joints[1] + joints[2] + joints[3])\n",
    "    return np.array([[0.5*cq1+0.5*cq12+0.5*cq123+0.7*cq1234, 0.5*cq12+0.5*cq123+0.7*cq1234, 0.5*cq123+0.7*cq1234, +0.7*cq1234], [-0.5*sq1-0.5*sq12-0.5*sq123-0.7*sq1234, -0.5*sq12-0.5*sq123-0.7*sq1234, -0.5*sq123-0.7*sq1234, -0.7*sq1234]])\n",
    "# inertia matrix of a four link planar robot\n",
    "def four_link_inertia(joints):\n",
    "    sq1 = np.sin(joints[1])\n",
    "    cq1 = np.cos(joints[1])\n",
    "    sq2 = np.sin(joints[2])\n",
    "    cq2 = np.cos(joints[2])\n",
    "    sq3 = np.sin(joints[3])\n",
    "    cq3 = np.cos(joints[3])\n",
    "    return np.reshape([cq1*(5.0/8.0)+cq2*(3.0/8.0)+cq3/8.0+cq1*cq2*(3.0/8.0)+(cq2*cq3)/8.0-sq1*sq2*(3.0/8.0)-(sq2*sq3)/8.0+(cq1*cq2*cq3)/8.0-(cq1*sq2*sq3)/8.0-(cq2*sq1*sq3)/8.0-(cq3*sq1*sq2)/8.0+7.0/8.0,cq1*(5.0/1.6e+1)+cq2*(3.0/8.0)+cq3/8.0+cq1*cq2*(3.0/1.6e+1)+(cq2*cq3)/8.0-sq1*sq2*(3.0/1.6e+1)-(sq2*sq3)/8.0+(cq1*cq2*cq3)/1.6e+1-(cq1*sq2*sq3)/1.6e+1-(cq2*sq1*sq3)/1.6e+1-(cq3*sq1*sq2)/1.6e+1+1.5e+1/3.2e+1,cq2*(3.0/1.6e+1)+cq3/8.0+cq1*cq2*(3.0/1.6e+1)+(cq2*cq3)/1.6e+1-sq1*sq2*(3.0/1.6e+1)-(sq2*sq3)/1.6e+1+(cq1*cq2*cq3)/1.6e+1-(cq1*sq2*sq3)/1.6e+1-(cq2*sq1*sq3)/1.6e+1-(cq3*sq1*sq2)/1.6e+1+3.0/1.6e+1,cq3/1.6e+1+(cq2*cq3)/1.6e+1-(sq2*sq3)/1.6e+1+(cq1*cq2*cq3)/1.6e+1-(cq1*sq2*sq3)/1.6e+1-(cq2*sq1*sq3)/1.6e+1-(cq3*sq1*sq2)/1.6e+1+1.0/3.2e+1,cq1*(5.0/1.6e+1)+cq2*(3.0/8.0)+cq3/8.0+cq1*cq2*(3.0/1.6e+1)+(cq2*cq3)/8.0-sq1*sq2*(3.0/1.6e+1)-(sq2*sq3)/8.0+(cq1*cq2*cq3)/1.6e+1-(cq1*sq2*sq3)/1.6e+1-(cq2*sq1*sq3)/1.6e+1-(cq3*sq1*sq2)/1.6e+1+1.5e+1/3.2e+1,cq2*(3.0/8.0)+cq3/8.0+(cq2*cq3)/8.0-(sq2*sq3)/8.0+1.5e+1/3.2e+1,cq2*(3.0/1.6e+1)+cq3/8.0+(cq2*cq3)/1.6e+1-(sq2*sq3)/1.6e+1+3.0/1.6e+1,cq3/1.6e+1+(cq2*cq3)/1.6e+1-(sq2*sq3)/1.6e+1+1.0/3.2e+1,cq2*(3.0/1.6e+1)+cq3/8.0+cq1*cq2*(3.0/1.6e+1)+(cq2*cq3)/1.6e+1-sq1*sq2*(3.0/1.6e+1)-(sq2*sq3)/1.6e+1+(cq1*cq2*cq3)/1.6e+1-(cq1*sq2*sq3)/1.6e+1-(cq2*sq1*sq3)/1.6e+1-(cq3*sq1*sq2)/1.6e+1+3.0/1.6e+1,cq2*(3.0/1.6e+1)+cq3/8.0+(cq2*cq3)/1.6e+1-(sq2*sq3)/1.6e+1+3.0/1.6e+1,cq3/8.0+3.0/1.6e+1,cq3/1.6e+1+1.0/3.2e+1,cq3/1.6e+1+(cq2*cq3)/1.6e+1-(sq2*sq3)/1.6e+1+(cq1*cq2*cq3)/1.6e+1-(cq1*sq2*sq3)/1.6e+1-(cq2*sq1*sq3)/1.6e+1-(cq3*sq1*sq2)/1.6e+1+1.0/3.2e+1,cq3/1.6e+1+(cq2*cq3)/1.6e+1-(sq2*sq3)/1.6e+1+1.0/3.2e+1,cq3/1.6e+1+1.0/3.2e+1,1.0/3.2e+1],[4,4]);\n"
   ]
  },
  {
   "cell_type": "markdown",
   "metadata": {},
   "source": [
    "## Force polytope and manipulability ellipsoid"
   ]
  },
  {
   "cell_type": "code",
   "execution_count": 4,
   "metadata": {},
   "outputs": [
    {
     "ename": "AttributeError",
     "evalue": "module 'pycapacity' has no attribute 'force_polytope_withfaces'",
     "output_type": "error",
     "traceback": [
      "\u001b[0;31m---------------------------------------------------------------------------\u001b[0m",
      "\u001b[0;31mAttributeError\u001b[0m                            Traceback (most recent call last)",
      "\u001b[0;32m/tmp/ipykernel_7712/2189854775.py\u001b[0m in \u001b[0;36m<module>\u001b[0;34m\u001b[0m\n\u001b[1;32m      8\u001b[0m \u001b[0mJ\u001b[0m \u001b[0;34m=\u001b[0m \u001b[0mfour_link_jacobian\u001b[0m\u001b[0;34m(\u001b[0m\u001b[0mq\u001b[0m\u001b[0;34m)\u001b[0m\u001b[0;34m\u001b[0m\u001b[0;34m\u001b[0m\u001b[0m\n\u001b[1;32m      9\u001b[0m \u001b[0;31m# calculate the velocity polytope\u001b[0m\u001b[0;34m\u001b[0m\u001b[0;34m\u001b[0m\u001b[0;34m\u001b[0m\u001b[0m\n\u001b[0;32m---> 10\u001b[0;31m \u001b[0mf_vert\u001b[0m\u001b[0;34m,\u001b[0m \u001b[0mfaces\u001b[0m \u001b[0;34m=\u001b[0m \u001b[0mcapacity\u001b[0m\u001b[0;34m.\u001b[0m\u001b[0mforce_polytope_withfaces\u001b[0m\u001b[0;34m(\u001b[0m\u001b[0mJ\u001b[0m\u001b[0;34m,\u001b[0m\u001b[0mtau_min\u001b[0m\u001b[0;34m,\u001b[0m\u001b[0mtau_max\u001b[0m\u001b[0;34m)\u001b[0m\u001b[0;34m\u001b[0m\u001b[0;34m\u001b[0m\u001b[0m\n\u001b[0m\u001b[1;32m     11\u001b[0m \u001b[0;31m# calculate the velocity ellipsoid\u001b[0m\u001b[0;34m\u001b[0m\u001b[0;34m\u001b[0m\u001b[0;34m\u001b[0m\u001b[0m\n\u001b[1;32m     12\u001b[0m \u001b[0mS\u001b[0m\u001b[0;34m,\u001b[0m\u001b[0mU\u001b[0m \u001b[0;34m=\u001b[0m \u001b[0mcapacity\u001b[0m\u001b[0;34m.\u001b[0m\u001b[0mforce_ellipsoid\u001b[0m\u001b[0;34m(\u001b[0m\u001b[0mJ\u001b[0m\u001b[0;34m,\u001b[0m \u001b[0mtau_max\u001b[0m\u001b[0;34m)\u001b[0m\u001b[0;34m\u001b[0m\u001b[0;34m\u001b[0m\u001b[0m\n",
      "\u001b[0;31mAttributeError\u001b[0m: module 'pycapacity' has no attribute 'force_polytope_withfaces'"
     ]
    }
   ],
   "source": [
    "# joint positions q\n",
    "q  = np.random.rand(4)*np.pi\n",
    "# joint torque limits tau\n",
    "tau_min = np.array([[-1], [-1], [-1], [-1]])\n",
    "tau_max = np.array([[1], [1], [1], [1]])\n",
    "\n",
    "# jacobian\n",
    "J = four_link_jacobian(q)\n",
    "# calculate the velocity polytope\n",
    "f_vert, faces = capacity.force_polytope_withfaces(J,tau_min,tau_max)\n",
    "# calculate the velocity ellipsoid\n",
    "S,U = capacity.force_ellipsoid(J, tau_max)"
   ]
  },
  {
   "cell_type": "code",
   "execution_count": null,
   "metadata": {
    "scrolled": false
   },
   "outputs": [],
   "source": [
    "# visualise polytope ellispoid\n",
    "%matplotlib notebook\n",
    "fig = plt.figure(10)\n",
    "ax = fig.gca()\n",
    "plt.scatter(f_vert[0,:],f_vert[1,:], label=\"force vertices\")\n",
    "plt.fill(faces[0][0,:],faces[0][1,:], alpha=0.4, facecolor='lightsalmon', edgecolor='orangered', linewidth=3,label='polytope')\n",
    "ellipse = Ellipse(xy=(0, 0), width=2*S[1], height=2*S[0], \n",
    "                        edgecolor='b', fc='None', lw=2, angle=-np.arctan2(U[0,0],U[0,1])*180/np.pi,label='ellipsoid')\n",
    "ax.add_patch(ellipse)\n",
    "plt.axis('equal')\n",
    "plt.legend()\n",
    "plt.show()"
   ]
  },
  {
   "cell_type": "markdown",
   "metadata": {},
   "source": [
    "## Acceleration polytope and acceleration ellipsoid"
   ]
  },
  {
   "cell_type": "code",
   "execution_count": null,
   "metadata": {},
   "outputs": [],
   "source": [
    "##### joint positions q\n",
    "q  = np.random.rand(4)*np.pi\n",
    "# joint torque limits tau\n",
    "tau_min = np.array([[-1], [-1], [-1], [-1]])\n",
    "tau_max = np.array([[1], [1], [1], [1]])\n",
    "\n",
    "# jacobian\n",
    "J = four_link_jacobian(q)\n",
    "# jacobian\n",
    "M = four_link_inertia(q)\n",
    "# calculate the acceleration polytope\n",
    "acc_vert, faces = capacity.acceleration_polytope_withfaces(J, M, tau_min ,tau_max)\n",
    "# calculate the acceleration ellipsoid\n",
    "S,U = capacity.acceleration_ellipsoid(J, M, tau_max)"
   ]
  },
  {
   "cell_type": "code",
   "execution_count": null,
   "metadata": {
    "scrolled": false
   },
   "outputs": [],
   "source": [
    "# visualise polytope ellispoid\n",
    "%matplotlib notebook\n",
    "fig = plt.figure(13)\n",
    "ax = plt.gca()\n",
    "plt.scatter(acc_vert[0,:],acc_vert[1,:], label=\"vertices\")\n",
    "for face in faces:\n",
    "    plt.fill(face[0,:],face[1,:], alpha=0.4, facecolor='lightsalmon', edgecolor='orangered', linewidth=3)\n",
    "ellipse = Ellipse(xy=(0, 0), width=2*S[1], height=2*S[0], \n",
    "                        edgecolor='b', fc='None', lw=2, angle=-np.arctan2(U[0,0],U[0,1])*180/np.pi,label='ellipsoid')\n",
    "ax.add_patch(ellipse)\n",
    "plt.axis('equal')\n",
    "plt.legend()\n",
    "plt.show()"
   ]
  },
  {
   "cell_type": "markdown",
   "metadata": {},
   "source": [
    "## Velocity polytope and manipulability ellipsoid"
   ]
  },
  {
   "cell_type": "code",
   "execution_count": null,
   "metadata": {},
   "outputs": [],
   "source": [
    "##### joint positions q\n",
    "q  = np.random.rand(4)*np.pi\n",
    "# joint torque limits tau\n",
    "dq_min = 2*np.array([[-1], [-1], [-1], [-1]])\n",
    "dq_max = 2*np.array([[1], [1], [1], [1]])\n",
    "\n",
    "# jacobian\n",
    "J = four_link_jacobian(q)\n",
    "# calculate the force polytope\n",
    "vel_vert, faces = capacity.velocity_polytope_withfaces(J, dq_min ,dq_max)\n",
    "# calculate the force ellipsoid\n",
    "S,U = capacity.velocity_ellipsoid(J, dq_max)"
   ]
  },
  {
   "cell_type": "code",
   "execution_count": null,
   "metadata": {
    "scrolled": false
   },
   "outputs": [],
   "source": [
    "# visualise polytope ellispoid\n",
    "%matplotlib notebook\n",
    "fig = plt.figure(11)\n",
    "ax = plt.gca()\n",
    "plt.scatter(vel_vert[0,:],vel_vert[1,:], label=\"vertices\")\n",
    "for face in faces:\n",
    "    plt.fill(face[0,:],face[1,:], alpha=0.4, facecolor='lightsalmon', edgecolor='orangered', linewidth=3)\n",
    "ellipse = Ellipse(xy=(0, 0), width=2*S[1], height=2*S[0], \n",
    "                        edgecolor='b', fc='None', lw=2, angle=-np.arctan2(U[0,0],U[0,1])*180/np.pi,label='ellipsoid')\n",
    "ax.add_patch(ellipse)\n",
    "plt.axis('equal')\n",
    "plt.legend()\n",
    "plt.show()"
   ]
  },
  {
   "cell_type": "markdown",
   "metadata": {},
   "source": [
    "## Generic 3D robot example\n",
    "`m=3`\n",
    "Define jacobian matrix and torque limits"
   ]
  },
  {
   "cell_type": "code",
   "execution_count": null,
   "metadata": {},
   "outputs": [],
   "source": [
    "m = 3 # 3d forces\n",
    "n = 6 # robot dof \n",
    "J = np.array(np.random.rand(m,n))\n",
    "# torque limits\n",
    "t_min = -10*np.ones((n,1))\n",
    "t_max = 10*np.ones((n,1))\n",
    "# velocity limits\n",
    "dq_min = -np.ones((n,1))\n",
    "dq_max = np.ones((n,1))"
   ]
  },
  {
   "cell_type": "markdown",
   "metadata": {},
   "source": [
    "Calculate the force polytope vertices\n",
    "```\n",
    "t_min <  J^T.f < t_max\n",
    "```"
   ]
  },
  {
   "cell_type": "code",
   "execution_count": null,
   "metadata": {},
   "outputs": [],
   "source": [
    "f_vert, faces_force = capacity.force_polytope_withfaces(J,t_max,t_min)"
   ]
  },
  {
   "cell_type": "markdown",
   "metadata": {},
   "source": [
    "Calculate the velocity polytope vertices\n",
    "```\n",
    "v = J dq\n",
    "s.t. dq_min <  dq < dq_max\n",
    "```"
   ]
  },
  {
   "cell_type": "code",
   "execution_count": null,
   "metadata": {},
   "outputs": [],
   "source": [
    "vel_vert, faces_velocity = capacity.velocity_polytope_withfaces(J,dq_max,dq_min)"
   ]
  },
  {
   "cell_type": "markdown",
   "metadata": {},
   "source": [
    "Visualise the vertices force and velocity polytopes: `f_vert` and `vel_vert`"
   ]
  },
  {
   "cell_type": "code",
   "execution_count": null,
   "metadata": {
    "scrolled": false
   },
   "outputs": [],
   "source": [
    "%matplotlib notebook\n",
    "from mpl_toolkits.mplot3d import Axes3D\n",
    "from mpl_toolkits.mplot3d.art3d import Poly3DCollection\n",
    "fig = plt.figure(1)\n",
    "ax = fig.add_subplot(111, projection='3d')\n",
    "\n",
    "# plot polygones\n",
    "plot_polytope_faces_3d(faces=faces_force, face_color='blue', edge_color='black',alpha=0.2)\n",
    "plot_polytope_vertex_3d(ax=ax, vertex=f_vert,label='force',color='blue')\n",
    "    \n",
    "# plot polygones\n",
    "plot_polytope_faces_3d(faces=faces_velocity, face_color='red', edge_color='red',alpha=0.2)\n",
    "plot_polytope_vertex_3d(ax=ax, vertex=vel_vert, label='velocity',color='red')\n",
    "\n",
    "plt.tight_layout()\n",
    "plt.legend()\n",
    "plt.show()\n",
    "faces_force"
   ]
  },
  {
   "cell_type": "markdown",
   "metadata": {},
   "source": [
    "## Intersection example\n",
    "`m=3`\n",
    "Define jacobian matrix and torque limits"
   ]
  },
  {
   "cell_type": "code",
   "execution_count": null,
   "metadata": {},
   "outputs": [],
   "source": [
    "m = 3 # 3d forces\n",
    "n = 6 # robot dof \n",
    "J1 = np.array(np.random.rand(m,n))\n",
    "J2 = np.array(np.random.rand(m,n))\n",
    "t_min = np.ones((n,1))\n",
    "t_max = -np.ones((n,1))"
   ]
  },
  {
   "cell_type": "markdown",
   "metadata": {},
   "source": [
    "Calculate the force polytope vertices\n",
    "```\n",
    "t_min <  J^T.f < t_max\n",
    "```"
   ]
  },
  {
   "cell_type": "code",
   "execution_count": null,
   "metadata": {},
   "outputs": [],
   "source": [
    "f_vert1, polytopes1 = capacity.force_polytope_withfaces(J1, t_max, t_min)\n",
    "f_vert2, polytopes2 = capacity.force_polytope_withfaces(J2, t_max, t_min)\n",
    "f_vert_int, polytopes_int = capacity.force_polytope_intersection_withfaces(J1,J2,t_max,t_min,t_max,t_min)"
   ]
  },
  {
   "cell_type": "markdown",
   "metadata": {},
   "source": [
    "Visualise the vertices `f_vert`"
   ]
  },
  {
   "cell_type": "code",
   "execution_count": null,
   "metadata": {
    "scrolled": false
   },
   "outputs": [],
   "source": [
    "from mpl_toolkits.mplot3d import Axes3D\n",
    "from mpl_toolkits.mplot3d.art3d import Poly3DCollection\n",
    "fig = plt.figure(2)\n",
    "ax = fig.add_subplot(111, projection='3d')\n",
    "\n",
    "# intersection polytope\n",
    "plot_polytope_faces_3d(faces=polytopes_int, face_color='yellow', edge_color='orange',label='intersection', alpha=0.5)\n",
    "plot_polytope_vertex_3d(ax=ax, vertex=f_vert_int,label='vertices')\n",
    "    \n",
    "# polytope1\n",
    "plot_polytope_faces_3d(faces=polytopes1, face_color='red', edge_color='red',label='polytope 1', alpha=0.1)\n",
    "# polytope2\n",
    "plot_polytope_faces_3d(faces=polytopes2, face_color='blue', edge_color='black',label='polytope 2', alpha=0.1)\n",
    "\n",
    "\n",
    "ax.autoscale(enable=True) \n",
    "fig.tight_layout()\n",
    "plt.legend()\n",
    "plt.show()"
   ]
  },
  {
   "cell_type": "markdown",
   "metadata": {},
   "source": [
    "## Minkowski sum example\n",
    "`m=3`\n",
    "Define jacobian matrix and torque limits"
   ]
  },
  {
   "cell_type": "code",
   "execution_count": null,
   "metadata": {},
   "outputs": [],
   "source": [
    "m = 3 # 3d forces\n",
    "n = 4 # robot dof \n",
    "J1 = np.array(np.random.rand(m,n))\n",
    "J2 = np.array(np.random.rand(m,n))\n",
    "t_min = np.ones((n,1))\n",
    "t_max = -np.ones((n,1))"
   ]
  },
  {
   "cell_type": "markdown",
   "metadata": {},
   "source": [
    "Calculate the force polytope vertices\n",
    "```\n",
    "t_min <  J^T.f < t_max\n",
    "```"
   ]
  },
  {
   "cell_type": "code",
   "execution_count": null,
   "metadata": {},
   "outputs": [],
   "source": [
    "f_vert1, polytopes1 = capacity.force_polytope_withfaces(J1, t_max, t_min)\n",
    "f_vert2, polytopes2 = capacity.force_polytope_withfaces(J2, t_max, t_min)\n",
    "f_vert_int, polytopes_int = capacity.force_polytope_sum_withfaces(J1,J2,t_max,t_min,t_max,t_min)"
   ]
  },
  {
   "cell_type": "markdown",
   "metadata": {},
   "source": [
    "Visualise the vertices `f_vert`"
   ]
  },
  {
   "cell_type": "code",
   "execution_count": null,
   "metadata": {
    "scrolled": false
   },
   "outputs": [],
   "source": [
    "from mpl_toolkits.mplot3d import Axes3D\n",
    "from mpl_toolkits.mplot3d.art3d import Poly3DCollection\n",
    "fig = plt.figure(3)\n",
    "ax = fig.add_subplot(111, projection='3d')\n",
    "\n",
    "\n",
    "\n",
    "# intersection polytope\n",
    "plot_polytope_faces_3d(faces=polytopes_int, face_color='yellow', edge_color='orange',label='sum', alpha=0.2)\n",
    "plot_polytope_vertex_3d(ax=ax, vertex=f_vert_int,label='vertices')\n",
    "    \n",
    "# polytope1\n",
    "plot_polytope_faces_3d(faces=polytopes1, face_color='red', edge_color='red',label='polytope 1', alpha=0.3)\n",
    "# polytope2\n",
    "plot_polytope_faces_3d(faces=polytopes2, face_color='blue', edge_color='black',label='polytope 2', alpha=0.3)\n",
    "\n",
    "\n",
    "ax.autoscale(enable=True) \n",
    "fig.tight_layout()\n",
    "plt.legend()\n",
    "plt.show()"
   ]
  }
 ],
 "metadata": {
  "kernelspec": {
   "display_name": "Python 2",
   "language": "python",
   "name": "python2"
  },
  "language_info": {
   "codemirror_mode": {
    "name": "ipython",
    "version": 3
   },
   "file_extension": ".py",
   "mimetype": "text/x-python",
   "name": "python",
   "nbconvert_exporter": "python",
   "pygments_lexer": "ipython3",
   "version": "3.9.0"
  }
 },
 "nbformat": 4,
 "nbformat_minor": 2
}
